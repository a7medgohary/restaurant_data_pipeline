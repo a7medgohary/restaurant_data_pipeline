{
 "cells": [
  {
   "cell_type": "code",
   "execution_count": 44,
   "metadata": {},
   "outputs": [],
   "source": [
    "try:\n",
    "    spark.stop()\n",
    "except:\n",
    "    pass\n"
   ]
  },
  {
   "cell_type": "markdown",
   "metadata": {},
   "source": [
    "قم بإنشاء جلسة Spark لتحميل ومعالجة البيانات:"
   ]
  },
  {
   "cell_type": "code",
   "execution_count": 45,
   "metadata": {},
   "outputs": [],
   "source": [
    "from pyspark.sql import SparkSession\n",
    "import os\n",
    "\n",
    "os.environ[\"PYSPARK_PYTHON\"] = r\"c:\\Users\\162833\\AppData\\Local\\miniconda3\\envs\\food_project\\python.exe\"\n",
    "\n",
    "spark = SparkSession.builder \\\n",
    "    .appName(\"FoodDeliveryAnalytics\") \\\n",
    "    .config(\"spark.driver.bindAddress\", \"127.0.0.1\") \\\n",
    "    .config(\"spark.driver.host\", \"127.0.0.1\") \\\n",
    "    .getOrCreate()\n"
   ]
  },
  {
   "cell_type": "markdown",
   "metadata": {},
   "source": [
    "استخدم spark.read لتحميل البيانات من ملفات CSV أو JSON:"
   ]
  },
  {
   "cell_type": "code",
   "execution_count": 46,
   "metadata": {},
   "outputs": [
    {
     "name": "stdout",
     "output_type": "stream",
     "text": [
      "+-------------+--------------------+------------+----------------+--------------------+--------------------+--------------------+----------+---------+--------------------+--------------------+----------------+-----------------+-------------------+-----------------+--------------------+-----------+----------------+------------+-----------+-----+\n",
      "|Restaurant ID|     Restaurant Name|Country Code|            City|             Address|            Locality|    Locality Verbose| Longitude| Latitude|            Cuisines|Average Cost for two|        Currency|Has Table booking|Has Online delivery|Is delivering now|Switch to order menu|Price range|Aggregate rating|Rating color|Rating text|Votes|\n",
      "+-------------+--------------------+------------+----------------+--------------------+--------------------+--------------------+----------+---------+--------------------+--------------------+----------------+-----------------+-------------------+-----------------+--------------------+-----------+----------------+------------+-----------+-----+\n",
      "|      6317637|    Le Petit Souffle|         162|     Makati City|Third Floor, Cent...|Century City Mall...|Century City Mall...|121.027535|14.565443|French, Japanese,...|                1100|Botswana Pula(P)|              Yes|                 No|               No|                  No|          3|             4.8|  Dark Green|  Excellent|  314|\n",
      "|      6304287|    Izakaya Kikufuji|         162|     Makati City|Little Tokyo, 227...|Little Tokyo, Leg...|Little Tokyo, Leg...|121.014101|14.553708|            Japanese|                1200|Botswana Pula(P)|              Yes|                 No|               No|                  No|          3|             4.5|  Dark Green|  Excellent|  591|\n",
      "|      6300002|Heat - Edsa Shang...|         162|Mandaluyong City|Edsa Shangri-La, ...|Edsa Shangri-La, ...|Edsa Shangri-La, ...|121.056831|14.581404|Seafood, Asian, F...|                4000|Botswana Pula(P)|              Yes|                 No|               No|                  No|          4|             4.4|       Green|  Very Good|  270|\n",
      "+-------------+--------------------+------------+----------------+--------------------+--------------------+--------------------+----------+---------+--------------------+--------------------+----------------+-----------------+-------------------+-----------------+--------------------+-----------+----------------+------------+-----------+-----+\n",
      "only showing top 3 rows\n",
      "\n",
      "+----+-------+--------------------+-------------+-------------+-------------+------+\n",
      "|code|message|         restaurants|results_found|results_shown|results_start|status|\n",
      "+----+-------+--------------------+-------------+-------------+-------------+------+\n",
      "|NULL|   NULL|[{{{308322}, b90e...|        17151|           20|            1|  NULL|\n",
      "|NULL|   NULL|[{{{18017612}, b9...|         4748|           20|            1|  NULL|\n",
      "|NULL|   NULL|[{{{18313566}, b9...|        13786|           20|            1|  NULL|\n",
      "+----+-------+--------------------+-------------+-------------+-------------+------+\n",
      "only showing top 3 rows\n",
      "\n",
      "+------------+---------+\n",
      "|Country Code|  Country|\n",
      "+------------+---------+\n",
      "|           1|    India|\n",
      "|          14|Australia|\n",
      "|          30|   Brazil|\n",
      "+------------+---------+\n",
      "only showing top 3 rows\n",
      "\n"
     ]
    }
   ],
   "source": [
    "from pyspark.sql import SparkSession\n",
    "\n",
    "# إنشاء جلسة Spark\n",
    "spark = SparkSession.builder.appName(\"FoodDeliveryAnalytics\").getOrCreate()\n",
    "\n",
    "# تعريف المسار الأساسي\n",
    "data_path = \"C:/me/food_delivery_analytics/data/data1\"\n",
    "\n",
    "# تحميل ملف CSV (zomato)\n",
    "df_zomato = spark.read.csv(f\"{data_path}/zomato.csv\", header=True, inferSchema=True)\n",
    "\n",
    "# تحميل ملفات JSON\n",
    "df_file1 = spark.read.json(f\"{data_path}/file1.json\")\n",
    "df_file2 = spark.read.json(f\"{data_path}/file2.json\")\n",
    "df_file3 = spark.read.json(f\"{data_path}/file3.json\")\n",
    "df_file4 = spark.read.json(f\"{data_path}/file4.json\")\n",
    "df_file5 = spark.read.json(f\"{data_path}/file5.json\")\n",
    "\n",
    "# تحميل ملف Excel (Country-Code.xlsx)\n",
    "# نستخدم Pandas + تحويله إلى Spark DataFrame\n",
    "import pandas as pd\n",
    "\n",
    "df_country_code_pd = pd.read_excel(f\"{data_path}/Country-Code.xlsx\")\n",
    "df_country_code_pd = df_country_code_pd.astype(str)\n",
    "df_country_code = spark.createDataFrame(df_country_code_pd)\n",
    "\n",
    "# تأكيد التحميل\n",
    "df_zomato.show(3)\n",
    "df_file1.show(3)\n",
    "df_country_code.show(3)\n"
   ]
  },
  {
   "cell_type": "markdown",
   "metadata": {},
   "source": [
    "هناخد دول هنا ونشتغل عليهم علشان نظبط الداتا"
   ]
  },
  {
   "cell_type": "code",
   "execution_count": 47,
   "metadata": {},
   "outputs": [
    {
     "name": "stdout",
     "output_type": "stream",
     "text": [
      "+----+-------+--------------------+-------------+-------------+-------------+------+\n",
      "|code|message|         restaurants|results_found|results_shown|results_start|status|\n",
      "+----+-------+--------------------+-------------+-------------+-------------+------+\n",
      "|NULL|   NULL|[{{{308322}, b90e...|        17151|           20|            1|  NULL|\n",
      "|NULL|   NULL|[{{{18017612}, b9...|         4748|           20|            1|  NULL|\n",
      "|NULL|   NULL|[{{{18313566}, b9...|        13786|           20|            1|  NULL|\n",
      "+----+-------+--------------------+-------------+-------------+-------------+------+\n",
      "only showing top 3 rows\n",
      "\n"
     ]
    }
   ],
   "source": [
    "# تحميل ملفات JSON\n",
    "df_file1 = spark.read.json(f\"{data_path}/file1.json\")\n",
    "df_file2 = spark.read.json(f\"{data_path}/file2.json\")\n",
    "df_file3 = spark.read.json(f\"{data_path}/file3.json\")\n",
    "df_file4 = spark.read.json(f\"{data_path}/file4.json\")\n",
    "df_file5 = spark.read.json(f\"{data_path}/file5.json\")\n",
    "\n",
    "df_file1.show(3)"
   ]
  },
  {
   "cell_type": "markdown",
   "metadata": {},
   "source": [
    "انا هنا اشتغلت علي الفايل بتاع json وخدت من العمود اللى اسمه المطعم وفردت الداتا اللى فيه فى جدول "
   ]
  },
  {
   "cell_type": "code",
   "execution_count": 48,
   "metadata": {},
   "outputs": [
    {
     "name": "stdout",
     "output_type": "stream",
     "text": [
      "+-------------+--------------------------------+------------+---------+-------------------------------------------------------------------------+----------------------------------------+-------------------------------------------------+-------------+-------------+---------------------------------------------------------+--------------------+--------+-----------------+-------------------+-----------------+--------------------+-----------+----------------+------------+-----------+-----+\n",
      "|Restaurant ID|Restaurant Name                 |Country Code|City     |Address                                                                  |Locality                                |Locality Verbose                                 |Longitude    |Latitude     |Cuisines                                                 |Average Cost for two|Currency|Has Table Booking|Has Online delivery|Is delivering now|Switch to order menu|Price range|Aggregate rating|Rating color|Rating text|Votes|\n",
      "+-------------+--------------------------------+------------+---------+-------------------------------------------------------------------------+----------------------------------------+-------------------------------------------------+-------------+-------------+---------------------------------------------------------+--------------------+--------+-----------------+-------------------+-----------------+--------------------+-----------+----------------+------------+-----------+-----+\n",
      "|308322       |Hauz Khas Social                |1           |New Delhi|9-A & 12, Hauz Khas Village, New Delhi                                   |Hauz Khas Village                       |Hauz Khas Village, New Delhi                     |77.1944706000|28.5542851000|Continental, American, Asian, North Indian               |1600                |Rs.     |1                |1                  |0                |0                   |3          |4.3             |5BA829      |Very Good  |7931 |\n",
      "|18037817     |Qubitos - The Terrace Cafe      |1           |New Delhi|C-7, Vishal Enclave, Opposite Metro Pillar 417, Rajouri Garden, New Delhi|Rajouri Garden                          |Rajouri Garden, New Delhi                        |77.1177015000|28.6471325000|Thai, European, Mexican, North Indian, Chinese, Cafe     |1500                |Rs.     |1                |0                  |0                |0                   |3          |4.5             |3F7E00      |Excellent  |778  |\n",
      "|312345       |The Hudson Cafe                 |1           |New Delhi|2524, 1st Floor, Hudson Lane, Delhi University-GTB Nagar, New Delhi      |Delhi University-GTB Nagar              |Delhi University-GTB Nagar, New Delhi            |77.2043172000|28.6949468000|Cafe, Italian, Continental, Chinese                      |850                 |Rs.     |0                |1                  |0                |0                   |2          |4.4             |5BA829      |Very Good  |1537 |\n",
      "|307490       |Summer House Cafe               |1           |New Delhi|1st Floor, DDA Shopping Complex, Aurobindo Place, Hauz Khas, New Delhi   |Hauz Khas                               |Hauz Khas, New Delhi                             |77.2038090000|28.5525204000|Italian, Continental                                     |1850                |Rs.     |1                |0                  |0                |0                   |3          |4.1             |5BA829      |Very Good  |1823 |\n",
      "|18241537     |38 Barracks                     |1           |New Delhi|M-38, Outer Circle, Connaught Place, New Delhi                           |Connaught Place                         |Connaught Place, New Delhi                       |77.2228584811|28.6330248887|North Indian, Italian, Asian, American                   |1600                |Rs.     |1                |0                  |0                |0                   |3          |4.4             |5BA829      |Very Good  |840  |\n",
      "|18161577     |Spezia Bistro                   |1           |New Delhi|2525, 1st Floor, Hudson Lane, Delhi University-GTB Nagar, New Delhi      |Delhi University-GTB Nagar              |Delhi University-GTB Nagar, New Delhi            |77.2041413000|28.6948390000|Cafe, Continental, Chinese, Italian                      |900                 |Rs.     |1                |1                  |0                |0                   |2          |4.6             |3F7E00      |Excellent  |1071 |\n",
      "|303960       |Manhattan Brewery & Bar Exchange|1           |Gurgaon  |1st Floor, Global Foyer Mall, Sector 43, Golf Course Road, Gurgaon       |Global Foyer Mall, Golf Course Road     |Global Foyer Mall, Golf Course Road, Gurgaon     |77.0950273000|28.4602710000|Finger Food, American, Continental, North Indian, Italian|2000                |Rs.     |0                |0                  |0                |0                   |4          |4.6             |3F7E00      |Excellent  |2093 |\n",
      "|306134       |The Wine Company                |1           |Gurgaon  |Cyber Hub, DLF Cyber City, Gurgaon                                       |Cyber Hub, DLF Cyber City               |Cyber Hub, DLF Cyber City, Gurgaon               |77.0890476000|28.4962285000|Italian, European                                        |2000                |Rs.     |1                |0                  |0                |0                   |4          |2.4             |FF7800      |Poor       |2412 |\n",
      "|18233593     |Farzi Cafe                      |1           |New Delhi|38/39, Level 1, Block E , Inner Circle, Connaught Place, New Delhi       |Connaught Place                         |Connaught Place, New Delhi                       |77.2214296000|28.6323984000|Modern Indian                                            |2200                |Rs.     |0                |0                  |0                |0                   |4          |4.4             |5BA829      |Very Good  |1942 |\n",
      "|7528         |Indian Grill Room               |1           |Gurgaon  |315, 3rd Floor, Suncity Business Tower, Golf Course Road, Gurgaon        |Suncity Business Tower, Golf Course Road|Suncity Business Tower, Golf Course Road, Gurgaon|77.1052774000|28.4334574000|North Indian, Mughlai                                    |1800                |Rs.     |1                |1                  |0                |0                   |3          |4.5             |3F7E00      |Excellent  |1262 |\n",
      "+-------------+--------------------------------+------------+---------+-------------------------------------------------------------------------+----------------------------------------+-------------------------------------------------+-------------+-------------+---------------------------------------------------------+--------------------+--------+-----------------+-------------------+-----------------+--------------------+-----------+----------------+------------+-----------+-----+\n",
      "only showing top 10 rows\n",
      "\n"
     ]
    }
   ],
   "source": [
    "from pyspark.sql.functions import explode, col\n",
    "\n",
    "# قائمة تحتوي على جميع DataFrames الخاصة بملفات JSON\n",
    "json_files = [df_file1, df_file2, df_file3, df_file4, df_file5]\n",
    "\n",
    "# الأعمدة المطلوبة بعد التفكيك\n",
    "columns = [\n",
    "    col(\"restaurant.id\").alias(\"Restaurant ID\"),\n",
    "    col(\"restaurant.name\").alias(\"Restaurant Name\"),\n",
    "    col(\"restaurant.location.country_id\").alias(\"Country Code\"),\n",
    "    col(\"restaurant.location.city\").alias(\"City\"),\n",
    "    col(\"restaurant.location.address\").alias(\"Address\"),\n",
    "    col(\"restaurant.location.locality\").alias(\"Locality\"),\n",
    "    col(\"restaurant.location.locality_verbose\").alias(\"Locality Verbose\"),\n",
    "    col(\"restaurant.location.longitude\").alias(\"Longitude\"),\n",
    "    col(\"restaurant.location.latitude\").alias(\"Latitude\"),\n",
    "    col(\"restaurant.cuisines\").alias(\"Cuisines\"),\n",
    "    col(\"restaurant.average_cost_for_two\").alias(\"Average Cost for two\"),\n",
    "    col(\"restaurant.currency\").alias(\"Currency\"),\n",
    "    col(\"restaurant.has_table_booking\").alias(\"Has Table Booking\"),\n",
    "    col(\"restaurant.has_online_delivery\").alias(\"Has Online delivery\"),\n",
    "    col(\"restaurant.is_delivering_now\").alias(\"Is delivering now\"),\n",
    "    col(\"restaurant.switch_to_order_menu\").alias(\"Switch to order menu\"),\n",
    "    col(\"restaurant.price_range\").alias(\"Price range\"),\n",
    "    col(\"restaurant.user_rating.aggregate_rating\").alias(\"Aggregate rating\"),\n",
    "    col(\"restaurant.user_rating.rating_color\").alias(\"Rating color\"),\n",
    "    col(\"restaurant.user_rating.rating_text\").alias(\"Rating text\"),\n",
    "    col(\"restaurant.user_rating.votes\").alias(\"Votes\")\n",
    "]\n",
    "\n",
    "# تفكيك جميع الملفات ودمجها في DataFrame واحد\n",
    "df_combined = None  # متغير لحفظ النتيجة النهائية\n",
    "\n",
    "for i, df in enumerate(json_files):\n",
    "    # تفكيك عمود المطاعم\n",
    "    df_exploded = df.withColumn(\"restaurant\", explode(col(\"restaurants.restaurant\")))\n",
    "    \n",
    "    # استخراج الأعمدة المطلوبة\n",
    "    df_flat = df_exploded.select(*columns)\n",
    "    \n",
    "    # دمج البيانات مع DataFrame النهائي\n",
    "    if df_combined is None:\n",
    "        df_combined = df_flat  # أول ملف يتم تعيينه مباشرة\n",
    "    else:\n",
    "        df_combined = df_combined.unionByName(df_flat)  # دمج الملفات الأخرى\n",
    "\n",
    "# عرض البيانات المدمجة\n",
    "df_combined.show(10, truncate=False)\n"
   ]
  },
  {
   "cell_type": "code",
   "execution_count": 49,
   "metadata": {},
   "outputs": [],
   "source": [
    "from pyspark.sql.functions import lit\n",
    "\n",
    "# تأكد أن الأعمدة بنفس الترتيب في الداتا فريمين\n",
    "columns = [\n",
    "    \"Restaurant ID\", \"Restaurant Name\", \"Country Code\", \"City\", \"Address\", \"Locality\", \"Locality Verbose\",\n",
    "    \"Longitude\", \"Latitude\", \"Cuisines\", \"Average Cost for two\", \"Currency\", \"Has Table Booking\",\n",
    "    \"Has Online delivery\", \"Is delivering now\", \"Switch to order menu\", \"Price range\", \"Aggregate rating\",\n",
    "    \"Rating color\", \"Rating text\", \"Votes\"\n",
    "]\n",
    "\n",
    "# إعادة ترتيب الأعمدة في الداتا فريم الأول\n",
    "df_flat = df_flat.select(*columns)\n",
    "# إعادة ترتيب الأعمدة في الداتا فريم الثاني\n",
    "df_zomato = df_zomato.select(*columns)\n",
    "\n",
    "# دمج الداتا فريمين\n",
    "df_merged = df_flat.unionByName(df_zomato)\n"
   ]
  },
  {
   "cell_type": "code",
   "execution_count": 50,
   "metadata": {},
   "outputs": [
    {
     "name": "stdout",
     "output_type": "stream",
     "text": [
      "+-------------+------------------------------------+------------+-------+----------------------------------------------------+-----------------------+--------------------------------+--------------+-------------+---------------------------------+--------------------+--------+-----------------+-------------------+-----------------+--------------------+-----------+----------------+------------+-----------+-----+\n",
      "|Restaurant ID|Restaurant Name                     |Country Code|City   |Address                                             |Locality               |Locality Verbose                |Longitude     |Latitude     |Cuisines                         |Average Cost for two|Currency|Has Table Booking|Has Online delivery|Is delivering now|Switch to order menu|Price range|Aggregate rating|Rating color|Rating text|Votes|\n",
      "+-------------+------------------------------------+------------+-------+----------------------------------------------------+-----------------------+--------------------------------+--------------+-------------+---------------------------------+--------------------+--------+-----------------+-------------------+-----------------+--------------------+-----------+----------------+------------+-----------+-----+\n",
      "|17066603     |The Coop                            |216         |Orlando|610 W Morse Boulevard, Winter Park, FL 32789        |Winter Park            |Winter Park, Orlando            |-81.3572190000|28.5973660000|Southern, Cajun, Soul Food       |25                  |$       |0                |0                  |0                |0                   |2          |3.6             |9ACD32      |Good       |432  |\n",
      "|17059541     |Maggiano's Little Italy             |216         |Orlando|9101 International Drive,Orlando, FL 32819          |I-Drive/Universal      |I-Drive/Universal, Orlando      |-81.4714470000|28.4332350000|Italian                          |50                  |$       |0                |0                  |0                |0                   |4          |4.4             |5BA829      |Very Good  |886  |\n",
      "|17064405     |Tako Cheena by Pom Pom              |216         |Orlando|932 North Mills Avenue, Orlando, FL 32803           |Mills 50               |Mills 50, Orlando               |-81.3645470000|28.5578450000|Asian, Latin American, Vegetarian|10                  |$       |0                |0                  |0                |0                   |1          |4.4             |5BA829      |Very Good  |570  |\n",
      "|17057797     |Bosphorous Turkish Cuisine          |216         |Orlando|108 S Park Ave, Winter Park, FL 32789               |Winter Park            |Winter Park, Orlando            |-81.3508344000|28.5976271000|Mediterranean, Turkish           |40                  |$       |0                |0                  |0                |0                   |3          |4.2             |5BA829      |Very Good  |568  |\n",
      "|17057591     |Bahama Breeze Island Grille         |216         |Orlando|8849 International Drive, Orlando, FL 32819         |I-Drive/Universal      |I-Drive/Universal, Orlando      |-81.4715260000|28.4370650000|Caribbean                        |45                  |$       |0                |0                  |0                |0                   |3          |4.3             |5BA829      |Very Good  |910  |\n",
      "|17064266     |Hawkers Asian Street Fare           |216         |Orlando|1103 N Mills Avenue, Orlando, FL 32803              |Mills 50               |Mills 50, Orlando               |-81.3643470000|28.5605050000|Asian, Thai                      |35                  |$       |0                |0                  |0                |0                   |3          |4.6             |3F7E00      |Excellent  |1293 |\n",
      "|17060516     |Seasons 52 Fresh Grill              |216         |Orlando|7700 West Sand Lake Road, Orlando, FL 32819         |Restaurant Row         |Restaurant Row, Orlando         |-81.4879780000|28.4481750000|American                         |60                  |$       |0                |0                  |0                |0                   |4          |4.4             |5BA829      |Very Good  |1685 |\n",
      "|17060320     |Raglan Road Irish Pub and Restaurant|216         |Orlando|1640 E Buena Vista Drive, Lake Buena Vista, FL 32830|Disney: Downtown Disney|Disney: Downtown Disney, Orlando|-81.5177250000|28.3713380000|Irish                            |50                  |$       |0                |0                  |0                |0                   |4          |4.3             |5BA829      |Very Good  |782  |\n",
      "|17059060     |Hillstone                           |216         |Orlando|215 South Orlando Avenue, Winter Park, FL 32789     |Winter Park            |Winter Park, Orlando            |-81.3652600000|28.5966820000|                                 |40                  |$       |0                |0                  |0                |0                   |3          |4.4             |5BA829      |Very Good  |1158 |\n",
      "|17059012     |Hollerbach's Willow Tree Café       |216         |Orlando|205 East 1st Street, Sanford, FL 32771              |Sanford                |Sanford, Orlando                |-81.2668710000|28.8116530000|German                           |40                  |$       |0                |0                  |0                |0                   |3          |4.8             |3F7E00      |Excellent  |1699 |\n",
      "+-------------+------------------------------------+------------+-------+----------------------------------------------------+-----------------------+--------------------------------+--------------+-------------+---------------------------------+--------------------+--------+-----------------+-------------------+-----------------+--------------------+-----------+----------------+------------+-----------+-----+\n",
      "only showing top 10 rows\n",
      "\n"
     ]
    }
   ],
   "source": [
    "df_merged.show(10, truncate=False)\n"
   ]
  },
  {
   "cell_type": "markdown",
   "metadata": {},
   "source": [
    "لعرض انواع الاعمدة"
   ]
  },
  {
   "cell_type": "code",
   "execution_count": 51,
   "metadata": {},
   "outputs": [
    {
     "name": "stdout",
     "output_type": "stream",
     "text": [
      "root\n",
      " |-- Restaurant ID: string (nullable = true)\n",
      " |-- Restaurant Name: string (nullable = true)\n",
      " |-- Country Code: string (nullable = true)\n",
      " |-- City: string (nullable = true)\n",
      " |-- Address: string (nullable = true)\n",
      " |-- Locality: string (nullable = true)\n",
      " |-- Locality Verbose: string (nullable = true)\n",
      " |-- Longitude: string (nullable = true)\n",
      " |-- Latitude: string (nullable = true)\n",
      " |-- Cuisines: string (nullable = true)\n",
      " |-- Average Cost for two: string (nullable = true)\n",
      " |-- Currency: string (nullable = true)\n",
      " |-- Has Table Booking: string (nullable = true)\n",
      " |-- Has Online delivery: string (nullable = true)\n",
      " |-- Is delivering now: string (nullable = true)\n",
      " |-- Switch to order menu: string (nullable = true)\n",
      " |-- Price range: string (nullable = true)\n",
      " |-- Aggregate rating: string (nullable = true)\n",
      " |-- Rating color: string (nullable = true)\n",
      " |-- Rating text: string (nullable = true)\n",
      " |-- Votes: string (nullable = true)\n",
      "\n"
     ]
    }
   ],
   "source": [
    "df_merged.printSchema()\n"
   ]
  },
  {
   "cell_type": "code",
   "execution_count": 52,
   "metadata": {},
   "outputs": [
    {
     "name": "stdout",
     "output_type": "stream",
     "text": [
      "root\n",
      " |-- Restaurant ID: integer (nullable = true)\n",
      " |-- Restaurant Name: string (nullable = true)\n",
      " |-- Country Code: integer (nullable = true)\n",
      " |-- City: string (nullable = true)\n",
      " |-- Address: string (nullable = true)\n",
      " |-- Locality: string (nullable = true)\n",
      " |-- Locality Verbose: string (nullable = true)\n",
      " |-- Longitude: double (nullable = true)\n",
      " |-- Latitude: double (nullable = true)\n",
      " |-- Cuisines: string (nullable = true)\n",
      " |-- Average Cost for two: integer (nullable = true)\n",
      " |-- Currency: string (nullable = true)\n",
      " |-- Has Table Booking: string (nullable = true)\n",
      " |-- Has Online delivery: string (nullable = true)\n",
      " |-- Is delivering now: string (nullable = true)\n",
      " |-- Switch to order menu: string (nullable = true)\n",
      " |-- Price range: integer (nullable = true)\n",
      " |-- Aggregate rating: double (nullable = true)\n",
      " |-- Rating color: string (nullable = true)\n",
      " |-- Rating text: string (nullable = true)\n",
      " |-- Votes: integer (nullable = true)\n",
      "\n"
     ]
    }
   ],
   "source": [
    "from pyspark.sql.functions import col\n",
    "\n",
    "df_merged = df_merged \\\n",
    "    .withColumn(\"Restaurant ID\", col(\"Restaurant ID\").cast(\"int\")) \\\n",
    "    .withColumn(\"Country Code\", col(\"Country Code\").cast(\"int\")) \\\n",
    "    .withColumn(\"Longitude\", col(\"Longitude\").cast(\"double\")) \\\n",
    "    .withColumn(\"Latitude\", col(\"Latitude\").cast(\"double\")) \\\n",
    "    .withColumn(\"Average Cost for two\", col(\"Average Cost for two\").cast(\"int\")) \\\n",
    "    .withColumn(\"Price range\", col(\"Price range\").cast(\"int\")) \\\n",
    "    .withColumn(\"Aggregate rating\", col(\"Aggregate rating\").cast(\"double\")) \\\n",
    "    .withColumn(\"Votes\", col(\"Votes\").cast(\"int\"))\n",
    "df_merged.printSchema()  # تأكيد التغييرات في الأنواع"
   ]
  },
  {
   "cell_type": "code",
   "execution_count": 53,
   "metadata": {},
   "outputs": [
    {
     "name": "stdout",
     "output_type": "stream",
     "text": [
      "+-------------+--------------------+------------+-------+--------------------+--------------------+--------------------+-----------+----------+--------------------+--------------------+--------+-----------------+-------------------+-----------------+--------------------+-----------+----------------+------------+-----------+-----+\n",
      "|Restaurant ID|     Restaurant Name|Country Code|   City|             Address|            Locality|    Locality Verbose|  Longitude|  Latitude|            Cuisines|Average Cost for two|Currency|Has Table Booking|Has Online delivery|Is delivering now|Switch to order menu|Price range|Aggregate rating|Rating color|Rating text|Votes|\n",
      "+-------------+--------------------+------------+-------+--------------------+--------------------+--------------------+-----------+----------+--------------------+--------------------+--------+-----------------+-------------------+-----------------+--------------------+-----------+----------------+------------+-----------+-----+\n",
      "|     17066603|            The Coop|         216|Orlando|610 W Morse Boule...|         Winter Park|Winter Park, Orlando| -81.357219| 28.597366|Southern, Cajun, ...|                  25|       $|                0|                  0|                0|                   0|          2|             3.6|      9ACD32|       Good|  432|\n",
      "|     17059541|Maggiano's Little...|         216|Orlando|9101 Internationa...|   I-Drive/Universal|I-Drive/Universal...| -81.471447| 28.433235|             Italian|                  50|       $|                0|                  0|                0|                   0|          4|             4.4|      5BA829|  Very Good|  886|\n",
      "|     17064405|Tako Cheena by Po...|         216|Orlando|932 North Mills A...|            Mills 50|   Mills 50, Orlando| -81.364547| 28.557845|Asian, Latin Amer...|                  10|       $|                0|                  0|                0|                   0|          1|             4.4|      5BA829|  Very Good|  570|\n",
      "|     17057797|Bosphorous Turkis...|         216|Orlando|108 S Park Ave, W...|         Winter Park|Winter Park, Orlando|-81.3508344|28.5976271|Mediterranean, Tu...|                  40|       $|                0|                  0|                0|                   0|          3|             4.2|      5BA829|  Very Good|  568|\n",
      "|     17057591|Bahama Breeze Isl...|         216|Orlando|8849 Internationa...|   I-Drive/Universal|I-Drive/Universal...| -81.471526| 28.437065|           Caribbean|                  45|       $|                0|                  0|                0|                   0|          3|             4.3|      5BA829|  Very Good|  910|\n",
      "|     17064266|Hawkers Asian Str...|         216|Orlando|1103 N Mills Aven...|            Mills 50|   Mills 50, Orlando| -81.364347| 28.560505|         Asian, Thai|                  35|       $|                0|                  0|                0|                   0|          3|             4.6|      3F7E00|  Excellent| 1293|\n",
      "|     17060516|Seasons 52 Fresh ...|         216|Orlando|7700 West Sand La...|      Restaurant Row|Restaurant Row, O...| -81.487978| 28.448175|            American|                  60|       $|                0|                  0|                0|                   0|          4|             4.4|      5BA829|  Very Good| 1685|\n",
      "|     17060320|Raglan Road Irish...|         216|Orlando|1640 E Buena Vist...|Disney: Downtown ...|Disney: Downtown ...| -81.517725| 28.371338|               Irish|                  50|       $|                0|                  0|                0|                   0|          4|             4.3|      5BA829|  Very Good|  782|\n",
      "|     17059060|           Hillstone|         216|Orlando|215 South Orlando...|         Winter Park|Winter Park, Orlando|  -81.36526| 28.596682|                    |                  40|       $|                0|                  0|                0|                   0|          3|             4.4|      5BA829|  Very Good| 1158|\n",
      "|     17059012|Hollerbach's Will...|         216|Orlando|205 East 1st Stre...|             Sanford|    Sanford, Orlando| -81.266871| 28.811653|              German|                  40|       $|                0|                  0|                0|                   0|          3|             4.8|      3F7E00|  Excellent| 1699|\n",
      "|     17060869|     Texas de Brazil|         216|Orlando|5259 Internationa...|   I-Drive/Universal|I-Drive/Universal...|-81.4510725|28.4676808|    Brazilian, Steak|                 100|       $|                0|                  0|                0|                   0|          4|             4.6|      3F7E00|  Excellent| 2324|\n",
      "|     17061231|    The Ravenous Pig|         216|Orlando|565 W Fairbanks A...|         Winter Park|Winter Park, Orlando| -81.356024| 28.593297|            Pub Food|                  40|       $|                0|                  0|                0|                   0|          3|             4.4|      5BA829|  Very Good| 1998|\n",
      "|     17058534|    Earl of Sandwich|         216|Orlando|1750 E Buena Vist...|Disney: Downtown ...|Disney: Downtown ...| -81.514608| 28.372858|American, Sandwic...|                  35|       $|                0|                  0|                0|                   0|          3|             4.7|      3F7E00|  Excellent| 1341|\n",
      "|     17057925|    Café Tu Tu Tango|         216|Orlando|8625 Internationa...|   I-Drive/Universal|I-Drive/Universal...| -81.469986| 28.440344| New American, Tapas|                  40|       $|                0|                  0|                0|                   0|          3|             4.6|      3F7E00|  Excellent| 1293|\n",
      "|     17064031|Tibby's New Orlea...|         216|Orlando|2203 Aloma Avenue...|         Winter Park|Winter Park, Orlando| -81.322631| 28.601088|               Cajun|                  25|       $|                0|                  0|                0|                   0|          2|             4.7|      3F7E00|  Excellent| 1412|\n",
      "|     17061237|Cevíche Tapas Bar...|         216|Orlando|125 West Church S...|Church Street Dis...|Church Street Dis...| -81.381077| 28.540432|      Spanish, Tapas|                  40|       $|                0|                  0|                0|                   0|          3|             4.4|      5BA829|  Very Good|  981|\n",
      "|     17061253| Ethos Vegan Kitchen|         216|Orlando|601-B South New Y...|         Winter Park|Winter Park, Orlando| -81.352921| 28.592857|American, Breakfa...|                  25|       $|                0|                  0|                0|                   0|          2|             4.4|      5BA829|  Very Good|  797|\n",
      "|     17061296|Pom Pom's Teahous...|         216|Orlando|67 North Bumby Av...|   The Milk District|The Milk District...| -81.351467| 28.543571|American, Sandwic...|                  25|       $|                0|                  0|                0|                   0|          2|             4.9|      3F7E00|  Excellent| 1457|\n",
      "|     17061205|     Yellow Dog Eats|         216|Orlando|1236 Hempel Avenu...|          Windermere| Windermere, Orlando| -81.522987| 28.527592|American, BBQ, Sa...|                  35|       $|                0|                  0|                0|                   0|          3|             4.9|      3F7E00|  Excellent| 1252|\n",
      "|     17057397|              'Ohana|         216|Orlando|1600 Seven Seas D...|   Disney World Area|Disney World Area...| -81.585226| 28.405437|            Hawaiian|                  45|       $|                0|                  0|                0|                   0|          3|             4.5|      3F7E00|  Excellent| 1151|\n",
      "+-------------+--------------------+------------+-------+--------------------+--------------------+--------------------+-----------+----------+--------------------+--------------------+--------+-----------------+-------------------+-----------------+--------------------+-----------+----------------+------------+-----------+-----+\n",
      "only showing top 20 rows\n",
      "\n"
     ]
    }
   ],
   "source": [
    "df_final = df_merged\n",
    "df_final.show()\n"
   ]
  },
  {
   "cell_type": "markdown",
   "metadata": {},
   "source": []
  },
  {
   "cell_type": "code",
   "execution_count": 56,
   "metadata": {},
   "outputs": [
    {
     "name": "stdout",
     "output_type": "stream",
     "text": [
      "root\n",
      " |-- Restaurant ID: integer (nullable = true)\n",
      " |-- Restaurant Name: string (nullable = true)\n",
      " |-- Country Code: integer (nullable = true)\n",
      " |-- City: string (nullable = true)\n",
      " |-- Address: string (nullable = true)\n",
      " |-- Locality: string (nullable = true)\n",
      " |-- Locality Verbose: string (nullable = true)\n",
      " |-- Longitude: double (nullable = true)\n",
      " |-- Latitude: double (nullable = true)\n",
      " |-- Cuisines: string (nullable = true)\n",
      " |-- Average Cost for two: integer (nullable = true)\n",
      " |-- Currency: string (nullable = true)\n",
      " |-- Has Table Booking: string (nullable = true)\n",
      " |-- Has Online delivery: string (nullable = true)\n",
      " |-- Is delivering now: string (nullable = true)\n",
      " |-- Switch to order menu: string (nullable = true)\n",
      " |-- Price range: integer (nullable = true)\n",
      " |-- Aggregate rating: double (nullable = true)\n",
      " |-- Rating color: string (nullable = true)\n",
      " |-- Rating text: string (nullable = true)\n",
      " |-- Votes: integer (nullable = true)\n",
      "\n",
      "+-------------+--------------------------------+------------+---------+-------------------------------------------------------------------------+----------------------------------------+-------------------------------------------------+-------------+-------------+---------------------------------------------------------+--------------------+--------+-----------------+-------------------+-----------------+--------------------+-----------+----------------+------------+-----------+-----+\n",
      "|Restaurant ID|Restaurant Name                 |Country Code|City     |Address                                                                  |Locality                                |Locality Verbose                                 |Longitude    |Latitude     |Cuisines                                                 |Average Cost for two|Currency|Has Table Booking|Has Online delivery|Is delivering now|Switch to order menu|Price range|Aggregate rating|Rating color|Rating text|Votes|\n",
      "+-------------+--------------------------------+------------+---------+-------------------------------------------------------------------------+----------------------------------------+-------------------------------------------------+-------------+-------------+---------------------------------------------------------+--------------------+--------+-----------------+-------------------+-----------------+--------------------+-----------+----------------+------------+-----------+-----+\n",
      "|308322       |Hauz Khas Social                |1           |New Delhi|9-A & 12, Hauz Khas Village, New Delhi                                   |Hauz Khas Village                       |Hauz Khas Village, New Delhi                     |77.1944706   |28.5542851   |Continental, American, Asian, North Indian               |1600                |Rs.     |1                |1                  |0                |0                   |3          |4.3             |5BA829      |Very Good  |7931 |\n",
      "|18037817     |Qubitos - The Terrace Cafe      |1           |New Delhi|C-7, Vishal Enclave, Opposite Metro Pillar 417, Rajouri Garden, New Delhi|Rajouri Garden                          |Rajouri Garden, New Delhi                        |77.1177015   |28.6471325   |Thai, European, Mexican, North Indian, Chinese, Cafe     |1500                |Rs.     |1                |0                  |0                |0                   |3          |4.5             |3F7E00      |Excellent  |778  |\n",
      "|312345       |The Hudson Cafe                 |1           |New Delhi|2524, 1st Floor, Hudson Lane, Delhi University-GTB Nagar, New Delhi      |Delhi University-GTB Nagar              |Delhi University-GTB Nagar, New Delhi            |77.2043172   |28.6949468   |Cafe, Italian, Continental, Chinese                      |850                 |Rs.     |0                |1                  |0                |0                   |2          |4.4             |5BA829      |Very Good  |1537 |\n",
      "|307490       |Summer House Cafe               |1           |New Delhi|1st Floor, DDA Shopping Complex, Aurobindo Place, Hauz Khas, New Delhi   |Hauz Khas                               |Hauz Khas, New Delhi                             |77.203809    |28.5525204   |Italian, Continental                                     |1850                |Rs.     |1                |0                  |0                |0                   |3          |4.1             |5BA829      |Very Good  |1823 |\n",
      "|18241537     |38 Barracks                     |1           |New Delhi|M-38, Outer Circle, Connaught Place, New Delhi                           |Connaught Place                         |Connaught Place, New Delhi                       |77.2228584811|28.6330248887|North Indian, Italian, Asian, American                   |1600                |Rs.     |1                |0                  |0                |0                   |3          |4.4             |5BA829      |Very Good  |840  |\n",
      "|18161577     |Spezia Bistro                   |1           |New Delhi|2525, 1st Floor, Hudson Lane, Delhi University-GTB Nagar, New Delhi      |Delhi University-GTB Nagar              |Delhi University-GTB Nagar, New Delhi            |77.2041413   |28.694839    |Cafe, Continental, Chinese, Italian                      |900                 |Rs.     |1                |1                  |0                |0                   |2          |4.6             |3F7E00      |Excellent  |1071 |\n",
      "|303960       |Manhattan Brewery & Bar Exchange|1           |Gurgaon  |1st Floor, Global Foyer Mall, Sector 43, Golf Course Road, Gurgaon       |Global Foyer Mall, Golf Course Road     |Global Foyer Mall, Golf Course Road, Gurgaon     |77.0950273   |28.460271    |Finger Food, American, Continental, North Indian, Italian|2000                |Rs.     |0                |0                  |0                |0                   |4          |4.6             |3F7E00      |Excellent  |2093 |\n",
      "|306134       |The Wine Company                |1           |Gurgaon  |Cyber Hub, DLF Cyber City, Gurgaon                                       |Cyber Hub, DLF Cyber City               |Cyber Hub, DLF Cyber City, Gurgaon               |77.0890476   |28.4962285   |Italian, European                                        |2000                |Rs.     |1                |0                  |0                |0                   |4          |2.4             |FF7800      |Poor       |2412 |\n",
      "|18233593     |Farzi Cafe                      |1           |New Delhi|38/39, Level 1, Block E , Inner Circle, Connaught Place, New Delhi       |Connaught Place                         |Connaught Place, New Delhi                       |77.2214296   |28.6323984   |Modern Indian                                            |2200                |Rs.     |0                |0                  |0                |0                   |4          |4.4             |5BA829      |Very Good  |1942 |\n",
      "|7528         |Indian Grill Room               |1           |Gurgaon  |315, 3rd Floor, Suncity Business Tower, Golf Course Road, Gurgaon        |Suncity Business Tower, Golf Course Road|Suncity Business Tower, Golf Course Road, Gurgaon|77.1052774   |28.4334574   |North Indian, Mughlai                                    |1800                |Rs.     |1                |1                  |0                |0                   |3          |4.5             |3F7E00      |Excellent  |1262 |\n",
      "+-------------+--------------------------------+------------+---------+-------------------------------------------------------------------------+----------------------------------------+-------------------------------------------------+-------------+-------------+---------------------------------------------------------+--------------------+--------+-----------------+-------------------+-----------------+--------------------+-----------+----------------+------------+-----------+-----+\n",
      "only showing top 10 rows\n",
      "\n"
     ]
    }
   ],
   "source": [
    "# ----------------------------------------\n",
    "# إعداد بيئة العمل وإنشاء جلسة Spark\n",
    "# ----------------------------------------\n",
    "from pyspark.sql import SparkSession\n",
    "from pyspark.sql.functions import explode, col\n",
    "import pandas as pd\n",
    "import os\n",
    "\n",
    "# تحديد مسار Python الخاص بـ PySpark (مناسب لبيئة conda الخاصة بك)\n",
    "os.environ[\"PYSPARK_PYTHON\"] = r\"c:\\Users\\162833\\AppData\\Local\\miniconda3\\envs\\food_project\\python.exe\"\n",
    "\n",
    "# إنشاء جلسة Spark\n",
    "spark = SparkSession.builder \\\n",
    "    .appName(\"FoodDeliveryAnalytics\") \\\n",
    "    .config(\"spark.driver.bindAddress\", \"127.0.0.1\") \\\n",
    "    .config(\"spark.driver.host\", \"127.0.0.1\") \\\n",
    "    .getOrCreate()\n",
    "\n",
    "# ----------------------------------------\n",
    "# تحميل البيانات من الملفات\n",
    "# ----------------------------------------\n",
    "\n",
    "# المسار الرئيسي للبيانات\n",
    "data_path = \"C:/me/food_delivery_analytics/data/data1\"\n",
    "\n",
    "# تحميل ملف CSV (بيانات Zomato)\n",
    "df_zomato = spark.read.csv(f\"{data_path}/zomato.csv\", header=True, inferSchema=True)\n",
    "\n",
    "# تحميل جميع ملفات JSON (file1 إلى file5)\n",
    "json_files = [f\"{data_path}/file{i}.json\" for i in range(1, 6)]\n",
    "df_json_combined = None\n",
    "\n",
    "for file in json_files:\n",
    "    df_json = spark.read.json(file)\n",
    "    # استخراج وتفكيك بيانات المطاعم\n",
    "    df_exploded = df_json.withColumn(\"restaurant\", explode(col(\"restaurants.restaurant\")))\n",
    "    \n",
    "    # تسطيح البيانات المطلوبة\n",
    "    df_flat = df_exploded.select(\n",
    "        col(\"restaurant.id\").alias(\"Restaurant ID\"),\n",
    "        col(\"restaurant.name\").alias(\"Restaurant Name\"),\n",
    "        col(\"restaurant.location.country_id\").alias(\"Country Code\"),\n",
    "        col(\"restaurant.location.city\").alias(\"City\"),\n",
    "        col(\"restaurant.location.address\").alias(\"Address\"),\n",
    "        col(\"restaurant.location.locality\").alias(\"Locality\"),\n",
    "        col(\"restaurant.location.locality_verbose\").alias(\"Locality Verbose\"),\n",
    "        col(\"restaurant.location.longitude\").alias(\"Longitude\"),\n",
    "        col(\"restaurant.location.latitude\").alias(\"Latitude\"),\n",
    "        col(\"restaurant.cuisines\").alias(\"Cuisines\"),\n",
    "        col(\"restaurant.average_cost_for_two\").alias(\"Average Cost for two\"),\n",
    "        col(\"restaurant.currency\").alias(\"Currency\"),\n",
    "        col(\"restaurant.has_table_booking\").alias(\"Has Table Booking\"),\n",
    "        col(\"restaurant.has_online_delivery\").alias(\"Has Online delivery\"),\n",
    "        col(\"restaurant.is_delivering_now\").alias(\"Is delivering now\"),\n",
    "        col(\"restaurant.switch_to_order_menu\").alias(\"Switch to order menu\"),\n",
    "        col(\"restaurant.price_range\").alias(\"Price range\"),\n",
    "        col(\"restaurant.user_rating.aggregate_rating\").alias(\"Aggregate rating\"),\n",
    "        col(\"restaurant.user_rating.rating_color\").alias(\"Rating color\"),\n",
    "        col(\"restaurant.user_rating.rating_text\").alias(\"Rating text\"),\n",
    "        col(\"restaurant.user_rating.votes\").alias(\"Votes\"),\n",
    "    )\n",
    "\n",
    "    # دمج كل ملفات JSON في DataFrame واحد\n",
    "    df_json_combined = df_flat if df_json_combined is None else df_json_combined.unionByName(df_flat)\n",
    "\n",
    "# ----------------------------------------\n",
    "# تحميل ملف Excel الخاص بـ Country Codes\n",
    "# ----------------------------------------\n",
    "df_country_code_pd = pd.read_excel(f\"{data_path}/Country-Code.xlsx\").astype(str)\n",
    "df_country_code = spark.createDataFrame(df_country_code_pd)\n",
    "\n",
    "# ----------------------------------------\n",
    "# توحيد الأعمدة بين zomato وملفات JSON\n",
    "# ----------------------------------------\n",
    "\n",
    "columns = [\n",
    "    \"Restaurant ID\", \"Restaurant Name\", \"Country Code\", \"City\", \"Address\", \"Locality\", \"Locality Verbose\",\n",
    "    \"Longitude\", \"Latitude\", \"Cuisines\", \"Average Cost for two\", \"Currency\", \"Has Table Booking\",\n",
    "    \"Has Online delivery\", \"Is delivering now\", \"Switch to order menu\", \"Price range\", \"Aggregate rating\",\n",
    "    \"Rating color\", \"Rating text\", \"Votes\"\n",
    "]\n",
    "\n",
    "# التأكد من ترتيب الأعمدة\n",
    "df_zomato = df_zomato.select(*columns)\n",
    "df_json_combined = df_json_combined.select(*columns)\n",
    "\n",
    "# دمج بيانات JSON مع بيانات CSV\n",
    "df_merged = df_json_combined.unionByName(df_zomato)\n",
    "\n",
    "# ----------------------------------------\n",
    "# تحويل أنواع البيانات حسب الاستخدام\n",
    "# ----------------------------------------\n",
    "\n",
    "df_merged = df_merged \\\n",
    "    .withColumn(\"Restaurant ID\", col(\"Restaurant ID\").cast(\"int\")) \\\n",
    "    .withColumn(\"Country Code\", col(\"Country Code\").cast(\"int\")) \\\n",
    "    .withColumn(\"Longitude\", col(\"Longitude\").cast(\"double\")) \\\n",
    "    .withColumn(\"Latitude\", col(\"Latitude\").cast(\"double\")) \\\n",
    "    .withColumn(\"Average Cost for two\", col(\"Average Cost for two\").cast(\"int\")) \\\n",
    "    .withColumn(\"Price range\", col(\"Price range\").cast(\"int\")) \\\n",
    "    .withColumn(\"Aggregate rating\", col(\"Aggregate rating\").cast(\"double\")) \\\n",
    "    .withColumn(\"Votes\", col(\"Votes\").cast(\"int\"))\n",
    "\n",
    "# ----------------------------------------\n",
    "# عرض النتائج النهائية\n",
    "# ----------------------------------------\n",
    "\n",
    "df_merged.printSchema()\n",
    "df_merged.show(10, truncate=False)\n"
   ]
  }
 ],
 "metadata": {
  "kernelspec": {
   "display_name": "food_project",
   "language": "python",
   "name": "python3"
  },
  "language_info": {
   "codemirror_mode": {
    "name": "ipython",
    "version": 3
   },
   "file_extension": ".py",
   "mimetype": "text/x-python",
   "name": "python",
   "nbconvert_exporter": "python",
   "pygments_lexer": "ipython3",
   "version": "3.10.17"
  }
 },
 "nbformat": 4,
 "nbformat_minor": 2
}
