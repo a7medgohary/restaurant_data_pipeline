{
 "cells": [
  {
   "cell_type": "markdown",
   "id": "c332de67",
   "metadata": {},
   "source": [
    "## 1. Environment Setup\n",
    "\n",
    "In this section, we:\n",
    "- Import necessary libraries such as PySpark and Pandas.\n",
    "- Set the Python interpreter for PySpark to work correctly in a conda environment.\n",
    "- Initialize the Spark session using `SparkSession`.\n"
   ]
  },
  {
   "cell_type": "code",
   "execution_count": 13,
   "id": "f7aad705",
   "metadata": {},
   "outputs": [],
   "source": [
    "# 1. Environment Setup\n",
    "\n",
    "from pyspark.sql import SparkSession\n",
    "from pyspark.sql.functions import explode, col\n",
    "\n",
    "import os\n",
    "\n",
    "# Set Python interpreter for Spark to use your Conda environment\n",
    "os.environ[\"PYSPARK_PYTHON\"] = r\"c:\\Users\\162833\\AppData\\Local\\miniconda3\\envs\\food_project\\python.exe\"\n",
    "\n",
    "# Initialize SparkSession\n",
    "spark = SparkSession.builder \\\n",
    "    .appName(\"FoodDeliveryAnalytics\") \\\n",
    "    .config(\"spark.driver.bindAddress\", \"127.0.0.1\") \\\n",
    "    .config(\"spark.driver.host\", \"127.0.0.1\") \\\n",
    "    .getOrCreate()\n"
   ]
  },
  {
   "cell_type": "markdown",
   "id": "7eb8690f",
   "metadata": {},
   "source": [
    "## 2. Data Loading\n",
    "\n",
    "### 🔹 zomato.csv\n",
    "Load restaurant data including names, locations, ratings, and more.\n",
    "\n",
    "### 🔹 JSON Files (file1 to file5)\n",
    "Load and flatten JSON files containing restaurant data, then combine all into one Spark DataFrame.\n",
    "\n",
    "### 🔹 Country-Code.xlsx\n",
    "Load an Excel file with country codes using Pandas, then convert it to a Spark DataFrame.\n"
   ]
  },
  {
   "cell_type": "code",
   "execution_count": 14,
   "id": "af178da1",
   "metadata": {},
   "outputs": [],
   "source": [
    "# 2.1 Load Zomato CSV data\n",
    "data_path = \"C:/me/restaurant_data_pipeline/data/data1\"\n",
    "\n",
    "df_zomato = spark.read.csv(f\"{data_path}/zomato.csv\", header=True, inferSchema=True)\n"
   ]
  },
  {
   "cell_type": "code",
   "execution_count": 15,
   "id": "3cb6de14",
   "metadata": {},
   "outputs": [
    {
     "name": "stdout",
     "output_type": "stream",
     "text": [
      "+-------------+--------------------------+------------+---------+-------------------------------------------------------------------------+--------------------------+-------------------------------------+-------------+-------------+----------------------------------------------------+--------------------+--------+-----------------+-------------------+-----------------+--------------------+-----------+----------------+------------+-----------+-----+\n",
      "|Restaurant ID|Restaurant Name           |Country Code|City     |Address                                                                  |Locality                  |Locality Verbose                     |Longitude    |Latitude     |Cuisines                                            |Average Cost for two|Currency|Has Table Booking|Has Online delivery|Is delivering now|Switch to order menu|Price range|Aggregate rating|Rating color|Rating text|Votes|\n",
      "+-------------+--------------------------+------------+---------+-------------------------------------------------------------------------+--------------------------+-------------------------------------+-------------+-------------+----------------------------------------------------+--------------------+--------+-----------------+-------------------+-----------------+--------------------+-----------+----------------+------------+-----------+-----+\n",
      "|308322       |Hauz Khas Social          |1           |New Delhi|9-A & 12, Hauz Khas Village, New Delhi                                   |Hauz Khas Village         |Hauz Khas Village, New Delhi         |77.1944706000|28.5542851000|Continental, American, Asian, North Indian          |1600                |Rs.     |1                |1                  |0                |0                   |3          |4.3             |5BA829      |Very Good  |7931 |\n",
      "|18037817     |Qubitos - The Terrace Cafe|1           |New Delhi|C-7, Vishal Enclave, Opposite Metro Pillar 417, Rajouri Garden, New Delhi|Rajouri Garden            |Rajouri Garden, New Delhi            |77.1177015000|28.6471325000|Thai, European, Mexican, North Indian, Chinese, Cafe|1500                |Rs.     |1                |0                  |0                |0                   |3          |4.5             |3F7E00      |Excellent  |778  |\n",
      "|312345       |The Hudson Cafe           |1           |New Delhi|2524, 1st Floor, Hudson Lane, Delhi University-GTB Nagar, New Delhi      |Delhi University-GTB Nagar|Delhi University-GTB Nagar, New Delhi|77.2043172000|28.6949468000|Cafe, Italian, Continental, Chinese                 |850                 |Rs.     |0                |1                  |0                |0                   |2          |4.4             |5BA829      |Very Good  |1537 |\n",
      "|307490       |Summer House Cafe         |1           |New Delhi|1st Floor, DDA Shopping Complex, Aurobindo Place, Hauz Khas, New Delhi   |Hauz Khas                 |Hauz Khas, New Delhi                 |77.2038090000|28.5525204000|Italian, Continental                                |1850                |Rs.     |1                |0                  |0                |0                   |3          |4.1             |5BA829      |Very Good  |1823 |\n",
      "|18241537     |38 Barracks               |1           |New Delhi|M-38, Outer Circle, Connaught Place, New Delhi                           |Connaught Place           |Connaught Place, New Delhi           |77.2228584811|28.6330248887|North Indian, Italian, Asian, American              |1600                |Rs.     |1                |0                  |0                |0                   |3          |4.4             |5BA829      |Very Good  |840  |\n",
      "+-------------+--------------------------+------------+---------+-------------------------------------------------------------------------+--------------------------+-------------------------------------+-------------+-------------+----------------------------------------------------+--------------------+--------+-----------------+-------------------+-----------------+--------------------+-----------+----------------+------------+-----------+-----+\n",
      "only showing top 5 rows\n",
      "\n",
      "+-------------+--------------------------+------------+---------+-------------------------------------------------------------------------+--------------------------+-------------------------------------+-------------+-------------+----------------------------------------------------+--------------------+--------+-----------------+-------------------+-----------------+--------------------+-----------+----------------+------------+-----------+-----+\n",
      "|Restaurant ID|Restaurant Name           |Country Code|City     |Address                                                                  |Locality                  |Locality Verbose                     |Longitude    |Latitude     |Cuisines                                            |Average Cost for two|Currency|Has Table Booking|Has Online delivery|Is delivering now|Switch to order menu|Price range|Aggregate rating|Rating color|Rating text|Votes|\n",
      "+-------------+--------------------------+------------+---------+-------------------------------------------------------------------------+--------------------------+-------------------------------------+-------------+-------------+----------------------------------------------------+--------------------+--------+-----------------+-------------------+-----------------+--------------------+-----------+----------------+------------+-----------+-----+\n",
      "|308322       |Hauz Khas Social          |1           |New Delhi|9-A & 12, Hauz Khas Village, New Delhi                                   |Hauz Khas Village         |Hauz Khas Village, New Delhi         |77.1944706000|28.5542851000|Continental, American, Asian, North Indian          |1600                |Rs.     |1                |1                  |0                |0                   |3          |4.3             |5BA829      |Very Good  |7931 |\n",
      "|18037817     |Qubitos - The Terrace Cafe|1           |New Delhi|C-7, Vishal Enclave, Opposite Metro Pillar 417, Rajouri Garden, New Delhi|Rajouri Garden            |Rajouri Garden, New Delhi            |77.1177015000|28.6471325000|Thai, European, Mexican, North Indian, Chinese, Cafe|1500                |Rs.     |1                |0                  |0                |0                   |3          |4.5             |3F7E00      |Excellent  |778  |\n",
      "|312345       |The Hudson Cafe           |1           |New Delhi|2524, 1st Floor, Hudson Lane, Delhi University-GTB Nagar, New Delhi      |Delhi University-GTB Nagar|Delhi University-GTB Nagar, New Delhi|77.2043172000|28.6949468000|Cafe, Italian, Continental, Chinese                 |850                 |Rs.     |0                |1                  |0                |0                   |2          |4.4             |5BA829      |Very Good  |1537 |\n",
      "|307490       |Summer House Cafe         |1           |New Delhi|1st Floor, DDA Shopping Complex, Aurobindo Place, Hauz Khas, New Delhi   |Hauz Khas                 |Hauz Khas, New Delhi                 |77.2038090000|28.5525204000|Italian, Continental                                |1850                |Rs.     |1                |0                  |0                |0                   |3          |4.1             |5BA829      |Very Good  |1823 |\n",
      "|18241537     |38 Barracks               |1           |New Delhi|M-38, Outer Circle, Connaught Place, New Delhi                           |Connaught Place           |Connaught Place, New Delhi           |77.2228584811|28.6330248887|North Indian, Italian, Asian, American              |1600                |Rs.     |1                |0                  |0                |0                   |3          |4.4             |5BA829      |Very Good  |840  |\n",
      "+-------------+--------------------------+------------+---------+-------------------------------------------------------------------------+--------------------------+-------------------------------------+-------------+-------------+----------------------------------------------------+--------------------+--------+-----------------+-------------------+-----------------+--------------------+-----------+----------------+------------+-----------+-----+\n",
      "only showing top 5 rows\n",
      "\n",
      "+-------------+--------------------------+------------+---------+-------------------------------------------------------------------------+--------------------------+-------------------------------------+-------------+-------------+----------------------------------------------------+--------------------+--------+-----------------+-------------------+-----------------+--------------------+-----------+----------------+------------+-----------+-----+\n",
      "|Restaurant ID|Restaurant Name           |Country Code|City     |Address                                                                  |Locality                  |Locality Verbose                     |Longitude    |Latitude     |Cuisines                                            |Average Cost for two|Currency|Has Table Booking|Has Online delivery|Is delivering now|Switch to order menu|Price range|Aggregate rating|Rating color|Rating text|Votes|\n",
      "+-------------+--------------------------+------------+---------+-------------------------------------------------------------------------+--------------------------+-------------------------------------+-------------+-------------+----------------------------------------------------+--------------------+--------+-----------------+-------------------+-----------------+--------------------+-----------+----------------+------------+-----------+-----+\n",
      "|308322       |Hauz Khas Social          |1           |New Delhi|9-A & 12, Hauz Khas Village, New Delhi                                   |Hauz Khas Village         |Hauz Khas Village, New Delhi         |77.1944706000|28.5542851000|Continental, American, Asian, North Indian          |1600                |Rs.     |1                |1                  |0                |0                   |3          |4.3             |5BA829      |Very Good  |7931 |\n",
      "|18037817     |Qubitos - The Terrace Cafe|1           |New Delhi|C-7, Vishal Enclave, Opposite Metro Pillar 417, Rajouri Garden, New Delhi|Rajouri Garden            |Rajouri Garden, New Delhi            |77.1177015000|28.6471325000|Thai, European, Mexican, North Indian, Chinese, Cafe|1500                |Rs.     |1                |0                  |0                |0                   |3          |4.5             |3F7E00      |Excellent  |778  |\n",
      "|312345       |The Hudson Cafe           |1           |New Delhi|2524, 1st Floor, Hudson Lane, Delhi University-GTB Nagar, New Delhi      |Delhi University-GTB Nagar|Delhi University-GTB Nagar, New Delhi|77.2043172000|28.6949468000|Cafe, Italian, Continental, Chinese                 |850                 |Rs.     |0                |1                  |0                |0                   |2          |4.4             |5BA829      |Very Good  |1537 |\n",
      "|307490       |Summer House Cafe         |1           |New Delhi|1st Floor, DDA Shopping Complex, Aurobindo Place, Hauz Khas, New Delhi   |Hauz Khas                 |Hauz Khas, New Delhi                 |77.2038090000|28.5525204000|Italian, Continental                                |1850                |Rs.     |1                |0                  |0                |0                   |3          |4.1             |5BA829      |Very Good  |1823 |\n",
      "|18241537     |38 Barracks               |1           |New Delhi|M-38, Outer Circle, Connaught Place, New Delhi                           |Connaught Place           |Connaught Place, New Delhi           |77.2228584811|28.6330248887|North Indian, Italian, Asian, American              |1600                |Rs.     |1                |0                  |0                |0                   |3          |4.4             |5BA829      |Very Good  |840  |\n",
      "+-------------+--------------------------+------------+---------+-------------------------------------------------------------------------+--------------------------+-------------------------------------+-------------+-------------+----------------------------------------------------+--------------------+--------+-----------------+-------------------+-----------------+--------------------+-----------+----------------+------------+-----------+-----+\n",
      "only showing top 5 rows\n",
      "\n",
      "+-------------+--------------------------+------------+---------+-------------------------------------------------------------------------+--------------------------+-------------------------------------+-------------+-------------+----------------------------------------------------+--------------------+--------+-----------------+-------------------+-----------------+--------------------+-----------+----------------+------------+-----------+-----+\n",
      "|Restaurant ID|Restaurant Name           |Country Code|City     |Address                                                                  |Locality                  |Locality Verbose                     |Longitude    |Latitude     |Cuisines                                            |Average Cost for two|Currency|Has Table Booking|Has Online delivery|Is delivering now|Switch to order menu|Price range|Aggregate rating|Rating color|Rating text|Votes|\n",
      "+-------------+--------------------------+------------+---------+-------------------------------------------------------------------------+--------------------------+-------------------------------------+-------------+-------------+----------------------------------------------------+--------------------+--------+-----------------+-------------------+-----------------+--------------------+-----------+----------------+------------+-----------+-----+\n",
      "|308322       |Hauz Khas Social          |1           |New Delhi|9-A & 12, Hauz Khas Village, New Delhi                                   |Hauz Khas Village         |Hauz Khas Village, New Delhi         |77.1944706000|28.5542851000|Continental, American, Asian, North Indian          |1600                |Rs.     |1                |1                  |0                |0                   |3          |4.3             |5BA829      |Very Good  |7931 |\n",
      "|18037817     |Qubitos - The Terrace Cafe|1           |New Delhi|C-7, Vishal Enclave, Opposite Metro Pillar 417, Rajouri Garden, New Delhi|Rajouri Garden            |Rajouri Garden, New Delhi            |77.1177015000|28.6471325000|Thai, European, Mexican, North Indian, Chinese, Cafe|1500                |Rs.     |1                |0                  |0                |0                   |3          |4.5             |3F7E00      |Excellent  |778  |\n",
      "|312345       |The Hudson Cafe           |1           |New Delhi|2524, 1st Floor, Hudson Lane, Delhi University-GTB Nagar, New Delhi      |Delhi University-GTB Nagar|Delhi University-GTB Nagar, New Delhi|77.2043172000|28.6949468000|Cafe, Italian, Continental, Chinese                 |850                 |Rs.     |0                |1                  |0                |0                   |2          |4.4             |5BA829      |Very Good  |1537 |\n",
      "|307490       |Summer House Cafe         |1           |New Delhi|1st Floor, DDA Shopping Complex, Aurobindo Place, Hauz Khas, New Delhi   |Hauz Khas                 |Hauz Khas, New Delhi                 |77.2038090000|28.5525204000|Italian, Continental                                |1850                |Rs.     |1                |0                  |0                |0                   |3          |4.1             |5BA829      |Very Good  |1823 |\n",
      "|18241537     |38 Barracks               |1           |New Delhi|M-38, Outer Circle, Connaught Place, New Delhi                           |Connaught Place           |Connaught Place, New Delhi           |77.2228584811|28.6330248887|North Indian, Italian, Asian, American              |1600                |Rs.     |1                |0                  |0                |0                   |3          |4.4             |5BA829      |Very Good  |840  |\n",
      "+-------------+--------------------------+------------+---------+-------------------------------------------------------------------------+--------------------------+-------------------------------------+-------------+-------------+----------------------------------------------------+--------------------+--------+-----------------+-------------------+-----------------+--------------------+-----------+----------------+------------+-----------+-----+\n",
      "only showing top 5 rows\n",
      "\n",
      "+-------------+--------------------------+------------+---------+-------------------------------------------------------------------------+--------------------------+-------------------------------------+-------------+-------------+----------------------------------------------------+--------------------+--------+-----------------+-------------------+-----------------+--------------------+-----------+----------------+------------+-----------+-----+\n",
      "|Restaurant ID|Restaurant Name           |Country Code|City     |Address                                                                  |Locality                  |Locality Verbose                     |Longitude    |Latitude     |Cuisines                                            |Average Cost for two|Currency|Has Table Booking|Has Online delivery|Is delivering now|Switch to order menu|Price range|Aggregate rating|Rating color|Rating text|Votes|\n",
      "+-------------+--------------------------+------------+---------+-------------------------------------------------------------------------+--------------------------+-------------------------------------+-------------+-------------+----------------------------------------------------+--------------------+--------+-----------------+-------------------+-----------------+--------------------+-----------+----------------+------------+-----------+-----+\n",
      "|308322       |Hauz Khas Social          |1           |New Delhi|9-A & 12, Hauz Khas Village, New Delhi                                   |Hauz Khas Village         |Hauz Khas Village, New Delhi         |77.1944706000|28.5542851000|Continental, American, Asian, North Indian          |1600                |Rs.     |1                |1                  |0                |0                   |3          |4.3             |5BA829      |Very Good  |7931 |\n",
      "|18037817     |Qubitos - The Terrace Cafe|1           |New Delhi|C-7, Vishal Enclave, Opposite Metro Pillar 417, Rajouri Garden, New Delhi|Rajouri Garden            |Rajouri Garden, New Delhi            |77.1177015000|28.6471325000|Thai, European, Mexican, North Indian, Chinese, Cafe|1500                |Rs.     |1                |0                  |0                |0                   |3          |4.5             |3F7E00      |Excellent  |778  |\n",
      "|312345       |The Hudson Cafe           |1           |New Delhi|2524, 1st Floor, Hudson Lane, Delhi University-GTB Nagar, New Delhi      |Delhi University-GTB Nagar|Delhi University-GTB Nagar, New Delhi|77.2043172000|28.6949468000|Cafe, Italian, Continental, Chinese                 |850                 |Rs.     |0                |1                  |0                |0                   |2          |4.4             |5BA829      |Very Good  |1537 |\n",
      "|307490       |Summer House Cafe         |1           |New Delhi|1st Floor, DDA Shopping Complex, Aurobindo Place, Hauz Khas, New Delhi   |Hauz Khas                 |Hauz Khas, New Delhi                 |77.2038090000|28.5525204000|Italian, Continental                                |1850                |Rs.     |1                |0                  |0                |0                   |3          |4.1             |5BA829      |Very Good  |1823 |\n",
      "|18241537     |38 Barracks               |1           |New Delhi|M-38, Outer Circle, Connaught Place, New Delhi                           |Connaught Place           |Connaught Place, New Delhi           |77.2228584811|28.6330248887|North Indian, Italian, Asian, American              |1600                |Rs.     |1                |0                  |0                |0                   |3          |4.4             |5BA829      |Very Good  |840  |\n",
      "+-------------+--------------------------+------------+---------+-------------------------------------------------------------------------+--------------------------+-------------------------------------+-------------+-------------+----------------------------------------------------+--------------------+--------+-----------------+-------------------+-----------------+--------------------+-----------+----------------+------------+-----------+-----+\n",
      "only showing top 5 rows\n",
      "\n"
     ]
    }
   ],
   "source": [
    "# 2.2 Load JSON Files\n",
    "# We are loading multiple JSON files into separate DataFrames\n",
    "json_files = [f\"{data_path}/file{i}.json\" for i in range(1, 6)]\n",
    "df_json_combined = None\n",
    "\n",
    "# Combine JSON files into one DataFrame\n",
    "for file in json_files:\n",
    "    df_json = spark.read.json(file)\n",
    "\n",
    "    df_exploded = df_json.withColumn(\"restaurant\", explode(col(\"restaurants.restaurant\")))\n",
    "  \n",
    "    df_flat = df_exploded.select(\n",
    "        col(\"restaurant.id\").alias(\"Restaurant ID\"),\n",
    "        col(\"restaurant.name\").alias(\"Restaurant Name\"),\n",
    "        col(\"restaurant.location.country_id\").alias(\"Country Code\"),\n",
    "        col(\"restaurant.location.city\").alias(\"City\"),\n",
    "        col(\"restaurant.location.address\").alias(\"Address\"),\n",
    "        col(\"restaurant.location.locality\").alias(\"Locality\"),\n",
    "        col(\"restaurant.location.locality_verbose\").alias(\"Locality Verbose\"),\n",
    "        col(\"restaurant.location.longitude\").alias(\"Longitude\"),\n",
    "        col(\"restaurant.location.latitude\").alias(\"Latitude\"),\n",
    "        col(\"restaurant.cuisines\").alias(\"Cuisines\"),\n",
    "        col(\"restaurant.average_cost_for_two\").alias(\"Average Cost for two\"),\n",
    "        col(\"restaurant.currency\").alias(\"Currency\"),\n",
    "        col(\"restaurant.has_table_booking\").alias(\"Has Table Booking\"),\n",
    "        col(\"restaurant.has_online_delivery\").alias(\"Has Online delivery\"),\n",
    "        col(\"restaurant.is_delivering_now\").alias(\"Is delivering now\"),\n",
    "        col(\"restaurant.switch_to_order_menu\").alias(\"Switch to order menu\"),\n",
    "        col(\"restaurant.price_range\").alias(\"Price range\"),\n",
    "        col(\"restaurant.user_rating.aggregate_rating\").alias(\"Aggregate rating\"),\n",
    "        col(\"restaurant.user_rating.rating_color\").alias(\"Rating color\"),\n",
    "        col(\"restaurant.user_rating.rating_text\").alias(\"Rating text\"),\n",
    "        col(\"restaurant.user_rating.votes\").alias(\"Votes\"),\n",
    "    )\n",
    "\n",
    "    # Show the first few rows of the DataFrame\n",
    "    df_json_combined = df_flat if df_json_combined is None else df_json_combined.unionByName(df_flat)\n",
    "    df_json_combined.show(5, truncate=False)"
   ]
  },
  {
   "cell_type": "code",
   "execution_count": 16,
   "id": "59e88627",
   "metadata": {},
   "outputs": [
    {
     "name": "stdout",
     "output_type": "stream",
     "text": [
      "+------------+---------+\n",
      "|Country Code|Country  |\n",
      "+------------+---------+\n",
      "|1           |India    |\n",
      "|14          |Australia|\n",
      "|30          |Brazil   |\n",
      "|37          |Canada   |\n",
      "|94          |Indonesia|\n",
      "+------------+---------+\n",
      "only showing top 5 rows\n",
      "\n"
     ]
    }
   ],
   "source": [
    "# 2.3 Load Excel file using Pandas and convert to Spark DataFrame\n",
    "import pandas as pd\n",
    "\n",
    "df_country_code_pd = pd.read_excel(f\"{data_path}/Country-Code.xlsx\")\n",
    "df_country_code_pd = df_country_code_pd.astype(str)  # Ensure consistent schema\n",
    "df_country_code = spark.createDataFrame(df_country_code_pd)\n",
    "df_country_code.show(5, truncate=False)\n"
   ]
  },
  {
   "cell_type": "markdown",
   "id": "16626b4d",
   "metadata": {},
   "source": [
    "## 3. Data Merging and Schema Alignment\n",
    "\n",
    "- Ensure both Zomato and JSON datasets follow the same column structure.\n",
    "- Select and reorder columns to match across DataFrames.\n",
    "- Merge all into one unified DataFrame.\n"
   ]
  },
  {
   "cell_type": "code",
   "execution_count": 17,
   "id": "2af6894b",
   "metadata": {},
   "outputs": [
    {
     "name": "stdout",
     "output_type": "stream",
     "text": [
      "+-------------+--------------------------+------------+---------+-------------------------------------------------------------------------+--------------------------+-------------------------------------+-------------+-------------+----------------------------------------------------+--------------------+--------+-----------------+-------------------+-----------------+--------------------+-----------+----------------+------------+-----------+-----+\n",
      "|Restaurant ID|Restaurant Name           |Country Code|City     |Address                                                                  |Locality                  |Locality Verbose                     |Longitude    |Latitude     |Cuisines                                            |Average Cost for two|Currency|Has Table Booking|Has Online delivery|Is delivering now|Switch to order menu|Price range|Aggregate rating|Rating color|Rating text|Votes|\n",
      "+-------------+--------------------------+------------+---------+-------------------------------------------------------------------------+--------------------------+-------------------------------------+-------------+-------------+----------------------------------------------------+--------------------+--------+-----------------+-------------------+-----------------+--------------------+-----------+----------------+------------+-----------+-----+\n",
      "|308322       |Hauz Khas Social          |1           |New Delhi|9-A & 12, Hauz Khas Village, New Delhi                                   |Hauz Khas Village         |Hauz Khas Village, New Delhi         |77.1944706000|28.5542851000|Continental, American, Asian, North Indian          |1600                |Rs.     |1                |1                  |0                |0                   |3          |4.3             |5BA829      |Very Good  |7931 |\n",
      "|18037817     |Qubitos - The Terrace Cafe|1           |New Delhi|C-7, Vishal Enclave, Opposite Metro Pillar 417, Rajouri Garden, New Delhi|Rajouri Garden            |Rajouri Garden, New Delhi            |77.1177015000|28.6471325000|Thai, European, Mexican, North Indian, Chinese, Cafe|1500                |Rs.     |1                |0                  |0                |0                   |3          |4.5             |3F7E00      |Excellent  |778  |\n",
      "|312345       |The Hudson Cafe           |1           |New Delhi|2524, 1st Floor, Hudson Lane, Delhi University-GTB Nagar, New Delhi      |Delhi University-GTB Nagar|Delhi University-GTB Nagar, New Delhi|77.2043172000|28.6949468000|Cafe, Italian, Continental, Chinese                 |850                 |Rs.     |0                |1                  |0                |0                   |2          |4.4             |5BA829      |Very Good  |1537 |\n",
      "|307490       |Summer House Cafe         |1           |New Delhi|1st Floor, DDA Shopping Complex, Aurobindo Place, Hauz Khas, New Delhi   |Hauz Khas                 |Hauz Khas, New Delhi                 |77.2038090000|28.5525204000|Italian, Continental                                |1850                |Rs.     |1                |0                  |0                |0                   |3          |4.1             |5BA829      |Very Good  |1823 |\n",
      "|18241537     |38 Barracks               |1           |New Delhi|M-38, Outer Circle, Connaught Place, New Delhi                           |Connaught Place           |Connaught Place, New Delhi           |77.2228584811|28.6330248887|North Indian, Italian, Asian, American              |1600                |Rs.     |1                |0                  |0                |0                   |3          |4.4             |5BA829      |Very Good  |840  |\n",
      "+-------------+--------------------------+------------+---------+-------------------------------------------------------------------------+--------------------------+-------------------------------------+-------------+-------------+----------------------------------------------------+--------------------+--------+-----------------+-------------------+-----------------+--------------------+-----------+----------------+------------+-----------+-----+\n",
      "only showing top 5 rows\n",
      "\n"
     ]
    }
   ],
   "source": [
    "# 3 Align columns in both DataFrames to ensure consistency before merging\n",
    "\n",
    "columns = [\n",
    "    \"Restaurant ID\", \"Restaurant Name\", \"Country Code\", \"City\", \"Address\", \"Locality\", \"Locality Verbose\",\n",
    "    \"Longitude\", \"Latitude\", \"Cuisines\", \"Average Cost for two\", \"Currency\", \"Has Table Booking\",\n",
    "    \"Has Online delivery\", \"Is delivering now\", \"Switch to order menu\", \"Price range\", \"Aggregate rating\",\n",
    "    \"Rating color\", \"Rating text\", \"Votes\"\n",
    "]\n",
    "\n",
    "df_zomato = df_zomato.select(*columns)\n",
    "df_json_combined = df_json_combined.select(*columns)\n",
    "\n",
    "# 4 Merge DataFrames\n",
    "df_merged = df_json_combined.unionByName(df_zomato)\n",
    "df_merged.show(5, truncate=False)"
   ]
  },
  {
   "cell_type": "markdown",
   "id": "5c413c52",
   "metadata": {},
   "source": [
    "## 4. Data Type Conversion\n",
    "\n",
    "Convert relevant columns to appropriate numeric types (e.g., int, double) to ensure proper analytical operations.\n"
   ]
  },
  {
   "cell_type": "code",
   "execution_count": 18,
   "id": "1fd5c733",
   "metadata": {},
   "outputs": [],
   "source": [
    "# 4. Reorder columns in both DataFrames to match\n",
    "\n",
    "df_merged = df_merged \\\n",
    "    .withColumn(\"Restaurant ID\", col(\"Restaurant ID\").cast(\"int\")) \\\n",
    "    .withColumn(\"Country Code\", col(\"Country Code\").cast(\"int\")) \\\n",
    "    .withColumn(\"Longitude\", col(\"Longitude\").cast(\"double\")) \\\n",
    "    .withColumn(\"Latitude\", col(\"Latitude\").cast(\"double\")) \\\n",
    "    .withColumn(\"Average Cost for two\", col(\"Average Cost for two\").cast(\"int\")) \\\n",
    "    .withColumn(\"Price range\", col(\"Price range\").cast(\"int\")) \\\n",
    "    .withColumn(\"Aggregate rating\", col(\"Aggregate rating\").cast(\"double\")) \\\n",
    "    .withColumn(\"Votes\", col(\"Votes\").cast(\"int\"))\n",
    "\n"
   ]
  },
  {
   "cell_type": "markdown",
   "id": "4184bf94",
   "metadata": {},
   "source": [
    "## 5. Data Preview\n",
    "\n",
    "Display the first 10 rows of the merged DataFrame and print the schema to verify all transformations.\n"
   ]
  },
  {
   "cell_type": "code",
   "execution_count": 19,
   "id": "bbef1775",
   "metadata": {},
   "outputs": [
    {
     "name": "stdout",
     "output_type": "stream",
     "text": [
      "root\n",
      " |-- Restaurant ID: integer (nullable = true)\n",
      " |-- Restaurant Name: string (nullable = true)\n",
      " |-- Country Code: integer (nullable = true)\n",
      " |-- City: string (nullable = true)\n",
      " |-- Address: string (nullable = true)\n",
      " |-- Locality: string (nullable = true)\n",
      " |-- Locality Verbose: string (nullable = true)\n",
      " |-- Longitude: double (nullable = true)\n",
      " |-- Latitude: double (nullable = true)\n",
      " |-- Cuisines: string (nullable = true)\n",
      " |-- Average Cost for two: integer (nullable = true)\n",
      " |-- Currency: string (nullable = true)\n",
      " |-- Has Table Booking: string (nullable = true)\n",
      " |-- Has Online delivery: string (nullable = true)\n",
      " |-- Is delivering now: string (nullable = true)\n",
      " |-- Switch to order menu: string (nullable = true)\n",
      " |-- Price range: integer (nullable = true)\n",
      " |-- Aggregate rating: double (nullable = true)\n",
      " |-- Rating color: string (nullable = true)\n",
      " |-- Rating text: string (nullable = true)\n",
      " |-- Votes: integer (nullable = true)\n",
      "\n",
      "+-------------+--------------------------------+------------+---------+-------------------------------------------------------------------------+----------------------------------------+-------------------------------------------------+-------------+-------------+---------------------------------------------------------+--------------------+--------+-----------------+-------------------+-----------------+--------------------+-----------+----------------+------------+-----------+-----+\n",
      "|Restaurant ID|Restaurant Name                 |Country Code|City     |Address                                                                  |Locality                                |Locality Verbose                                 |Longitude    |Latitude     |Cuisines                                                 |Average Cost for two|Currency|Has Table Booking|Has Online delivery|Is delivering now|Switch to order menu|Price range|Aggregate rating|Rating color|Rating text|Votes|\n",
      "+-------------+--------------------------------+------------+---------+-------------------------------------------------------------------------+----------------------------------------+-------------------------------------------------+-------------+-------------+---------------------------------------------------------+--------------------+--------+-----------------+-------------------+-----------------+--------------------+-----------+----------------+------------+-----------+-----+\n",
      "|308322       |Hauz Khas Social                |1           |New Delhi|9-A & 12, Hauz Khas Village, New Delhi                                   |Hauz Khas Village                       |Hauz Khas Village, New Delhi                     |77.1944706   |28.5542851   |Continental, American, Asian, North Indian               |1600                |Rs.     |1                |1                  |0                |0                   |3          |4.3             |5BA829      |Very Good  |7931 |\n",
      "|18037817     |Qubitos - The Terrace Cafe      |1           |New Delhi|C-7, Vishal Enclave, Opposite Metro Pillar 417, Rajouri Garden, New Delhi|Rajouri Garden                          |Rajouri Garden, New Delhi                        |77.1177015   |28.6471325   |Thai, European, Mexican, North Indian, Chinese, Cafe     |1500                |Rs.     |1                |0                  |0                |0                   |3          |4.5             |3F7E00      |Excellent  |778  |\n",
      "|312345       |The Hudson Cafe                 |1           |New Delhi|2524, 1st Floor, Hudson Lane, Delhi University-GTB Nagar, New Delhi      |Delhi University-GTB Nagar              |Delhi University-GTB Nagar, New Delhi            |77.2043172   |28.6949468   |Cafe, Italian, Continental, Chinese                      |850                 |Rs.     |0                |1                  |0                |0                   |2          |4.4             |5BA829      |Very Good  |1537 |\n",
      "|307490       |Summer House Cafe               |1           |New Delhi|1st Floor, DDA Shopping Complex, Aurobindo Place, Hauz Khas, New Delhi   |Hauz Khas                               |Hauz Khas, New Delhi                             |77.203809    |28.5525204   |Italian, Continental                                     |1850                |Rs.     |1                |0                  |0                |0                   |3          |4.1             |5BA829      |Very Good  |1823 |\n",
      "|18241537     |38 Barracks                     |1           |New Delhi|M-38, Outer Circle, Connaught Place, New Delhi                           |Connaught Place                         |Connaught Place, New Delhi                       |77.2228584811|28.6330248887|North Indian, Italian, Asian, American                   |1600                |Rs.     |1                |0                  |0                |0                   |3          |4.4             |5BA829      |Very Good  |840  |\n",
      "|18161577     |Spezia Bistro                   |1           |New Delhi|2525, 1st Floor, Hudson Lane, Delhi University-GTB Nagar, New Delhi      |Delhi University-GTB Nagar              |Delhi University-GTB Nagar, New Delhi            |77.2041413   |28.694839    |Cafe, Continental, Chinese, Italian                      |900                 |Rs.     |1                |1                  |0                |0                   |2          |4.6             |3F7E00      |Excellent  |1071 |\n",
      "|303960       |Manhattan Brewery & Bar Exchange|1           |Gurgaon  |1st Floor, Global Foyer Mall, Sector 43, Golf Course Road, Gurgaon       |Global Foyer Mall, Golf Course Road     |Global Foyer Mall, Golf Course Road, Gurgaon     |77.0950273   |28.460271    |Finger Food, American, Continental, North Indian, Italian|2000                |Rs.     |0                |0                  |0                |0                   |4          |4.6             |3F7E00      |Excellent  |2093 |\n",
      "|306134       |The Wine Company                |1           |Gurgaon  |Cyber Hub, DLF Cyber City, Gurgaon                                       |Cyber Hub, DLF Cyber City               |Cyber Hub, DLF Cyber City, Gurgaon               |77.0890476   |28.4962285   |Italian, European                                        |2000                |Rs.     |1                |0                  |0                |0                   |4          |2.4             |FF7800      |Poor       |2412 |\n",
      "|18233593     |Farzi Cafe                      |1           |New Delhi|38/39, Level 1, Block E , Inner Circle, Connaught Place, New Delhi       |Connaught Place                         |Connaught Place, New Delhi                       |77.2214296   |28.6323984   |Modern Indian                                            |2200                |Rs.     |0                |0                  |0                |0                   |4          |4.4             |5BA829      |Very Good  |1942 |\n",
      "|7528         |Indian Grill Room               |1           |Gurgaon  |315, 3rd Floor, Suncity Business Tower, Golf Course Road, Gurgaon        |Suncity Business Tower, Golf Course Road|Suncity Business Tower, Golf Course Road, Gurgaon|77.1052774   |28.4334574   |North Indian, Mughlai                                    |1800                |Rs.     |1                |1                  |0                |0                   |3          |4.5             |3F7E00      |Excellent  |1262 |\n",
      "+-------------+--------------------------------+------------+---------+-------------------------------------------------------------------------+----------------------------------------+-------------------------------------------------+-------------+-------------+---------------------------------------------------------+--------------------+--------+-----------------+-------------------+-----------------+--------------------+-----------+----------------+------------+-----------+-----+\n",
      "only showing top 10 rows\n",
      "\n"
     ]
    }
   ],
   "source": [
    "df_merged.printSchema()\n",
    "df_merged.show(10, truncate=False)"
   ]
  },
  {
   "cell_type": "code",
   "execution_count": 20,
   "metadata": {},
   "outputs": [],
   "source": [
    "df_merged=df_merged.toPandas()\n",
    "df_country_code=df_country_code.toPandas()"
   ]
  },
  {
   "cell_type": "code",
   "execution_count": 21,
   "metadata": {},
   "outputs": [
    {
     "name": "stdout",
     "output_type": "stream",
     "text": [
      "Send Done in BigQuery\n"
     ]
    }
   ],
   "source": [
    "from google.cloud import bigquery\n",
    "\n",
    "\n",
    "client = bigquery.Client.from_service_account_json(\"fooddelivary-456823-65b29f3b5b38key.json\")\n",
    "\n",
    "\n",
    "table_id_merged = \"fooddelivary-456823.food_analytics.resturant\"\n",
    "table_id_country = \"fooddelivary-456823.food_analytics.country_code\"\n",
    "\n",
    "\n",
    "job1 = client.load_table_from_dataframe(df_merged, table_id_merged).result()\n",
    "job2 = client.load_table_from_dataframe(df_country_code, table_id_country).result()\n",
    "\n",
    "print(\"Send Done in BigQuery\")\n"
   ]
  }
 ],
 "metadata": {
  "kernelspec": {
   "display_name": "food_project",
   "language": "python",
   "name": "python3"
  },
  "language_info": {
   "codemirror_mode": {
    "name": "ipython",
    "version": 3
   },
   "file_extension": ".py",
   "mimetype": "text/x-python",
   "name": "python",
   "nbconvert_exporter": "python",
   "pygments_lexer": "ipython3",
   "version": "3.10.17"
  }
 },
 "nbformat": 4,
 "nbformat_minor": 5
}
